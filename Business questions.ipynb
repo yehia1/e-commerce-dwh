{
 "cells": [
  {
   "cell_type": "code",
   "execution_count": 1,
   "metadata": {},
   "outputs": [],
   "source": [
    "import pandas as pd\n",
    "from sqlalchemy import create_engine\n",
    "import mysql.connector\n",
    "from mysql.connector import Error\n",
    "\n",
    "# Connect to Database \n",
    "def connect_to_database():\n",
    "    # Connect to the MySQL database\n",
    "    try:\n",
    "        db_connection = mysql.connector.connect(\n",
    "            host=\"127.0.0.1\",\n",
    "            user=\"root\",\n",
    "            password=\"0000\",  # Add your password here\n",
    "            database=\"e-commerce-dwh\"\n",
    "        )\n",
    "    except mysql.connector.Error as err:\n",
    "        print(\"Error connecting to database:\", err)\n",
    "        exit()  # Terminate script if connection fails\n",
    "    return db_connection\n",
    "\n",
    "# Fetch data from rawdata table\n",
    "def fetch_data(db_connection,query):\n",
    "    cursor = db_connection.cursor(dictionary=True)\n",
    "    cursor.execute(query)\n",
    "    result = cursor.fetchall()\n",
    "    return pd.DataFrame(result)\n",
    "\n",
    "connection = connect_to_database()"
   ]
  },
  {
   "cell_type": "markdown",
   "metadata": {},
   "source": [
    "# Business Questions"
   ]
  },
  {
   "cell_type": "markdown",
   "metadata": {},
   "source": [
    "## When is the peak season of our ecommerce ?"
   ]
  },
  {
   "cell_type": "code",
   "execution_count": 10,
   "metadata": {},
   "outputs": [
    {
     "data": {
      "text/html": [
       "<div>\n",
       "<style scoped>\n",
       "    .dataframe tbody tr th:only-of-type {\n",
       "        vertical-align: middle;\n",
       "    }\n",
       "\n",
       "    .dataframe tbody tr th {\n",
       "        vertical-align: top;\n",
       "    }\n",
       "\n",
       "    .dataframe thead th {\n",
       "        text-align: right;\n",
       "    }\n",
       "</style>\n",
       "<table border=\"1\" class=\"dataframe\">\n",
       "  <thead>\n",
       "    <tr style=\"text-align: right;\">\n",
       "      <th></th>\n",
       "      <th>peak_month</th>\n",
       "      <th>year</th>\n",
       "      <th>total_orders</th>\n",
       "      <th>total_revenue</th>\n",
       "    </tr>\n",
       "  </thead>\n",
       "  <tbody>\n",
       "    <tr>\n",
       "      <th>0</th>\n",
       "      <td>November</td>\n",
       "      <td>2017</td>\n",
       "      <td>8665</td>\n",
       "      <td>1010271370.00</td>\n",
       "    </tr>\n",
       "    <tr>\n",
       "      <th>1</th>\n",
       "      <td>March</td>\n",
       "      <td>2018</td>\n",
       "      <td>8217</td>\n",
       "      <td>983213440.00</td>\n",
       "    </tr>\n",
       "    <tr>\n",
       "      <th>2</th>\n",
       "      <td>January</td>\n",
       "      <td>2018</td>\n",
       "      <td>8208</td>\n",
       "      <td>950030360.00</td>\n",
       "    </tr>\n",
       "    <tr>\n",
       "      <th>3</th>\n",
       "      <td>April</td>\n",
       "      <td>2018</td>\n",
       "      <td>7975</td>\n",
       "      <td>996647750.00</td>\n",
       "    </tr>\n",
       "    <tr>\n",
       "      <th>4</th>\n",
       "      <td>May</td>\n",
       "      <td>2018</td>\n",
       "      <td>7925</td>\n",
       "      <td>996517680.00</td>\n",
       "    </tr>\n",
       "  </tbody>\n",
       "</table>\n",
       "</div>"
      ],
      "text/plain": [
       "  peak_month  year  total_orders  total_revenue\n",
       "0   November  2017          8665  1010271370.00\n",
       "1      March  2018          8217   983213440.00\n",
       "2    January  2018          8208   950030360.00\n",
       "3      April  2018          7975   996647750.00\n",
       "4        May  2018          7925   996517680.00"
      ]
     },
     "execution_count": 10,
     "metadata": {},
     "output_type": "execute_result"
    }
   ],
   "source": [
    "query = '''\n",
    "SELECT \n",
    "    d.month_name AS peak_month,\n",
    "    d.year,\n",
    "    COUNT(o.order_key) AS total_orders,\n",
    "    SUM(o.price) AS total_revenue\n",
    "FROM \n",
    "    fact_order o\n",
    "JOIN \n",
    "    dim_date d ON o.order_date_id = d.date_id\n",
    "GROUP BY \n",
    "    d.year,d.month_name\n",
    "ORDER BY \n",
    "    total_orders desc, total_revenue desc\n",
    "limit 5;\n",
    "'''\n",
    "fetch_data(connection,query)"
   ]
  },
  {
   "cell_type": "markdown",
   "metadata": {},
   "source": [
    "Our Peak is November due to black friday which is highest in revenue and ordes numbers Then March and January for 2018 Year"
   ]
  },
  {
   "cell_type": "markdown",
   "metadata": {},
   "source": [
    "## What time users are most likely make an order or using the ecommerce app?"
   ]
  },
  {
   "cell_type": "code",
   "execution_count": null,
   "metadata": {},
   "outputs": [
    {
     "data": {
      "text/html": [
       "<div>\n",
       "<style scoped>\n",
       "    .dataframe tbody tr th:only-of-type {\n",
       "        vertical-align: middle;\n",
       "    }\n",
       "\n",
       "    .dataframe tbody tr th {\n",
       "        vertical-align: top;\n",
       "    }\n",
       "\n",
       "    .dataframe thead th {\n",
       "        text-align: right;\n",
       "    }\n",
       "</style>\n",
       "<table border=\"1\" class=\"dataframe\">\n",
       "  <thead>\n",
       "    <tr style=\"text-align: right;\">\n",
       "      <th></th>\n",
       "      <th>hour</th>\n",
       "      <th>total_orders</th>\n",
       "    </tr>\n",
       "  </thead>\n",
       "  <tbody>\n",
       "    <tr>\n",
       "      <th>0</th>\n",
       "      <td>16</td>\n",
       "      <td>7653</td>\n",
       "    </tr>\n",
       "    <tr>\n",
       "      <th>1</th>\n",
       "      <td>14</td>\n",
       "      <td>7565</td>\n",
       "    </tr>\n",
       "    <tr>\n",
       "      <th>2</th>\n",
       "      <td>11</td>\n",
       "      <td>7432</td>\n",
       "    </tr>\n",
       "    <tr>\n",
       "      <th>3</th>\n",
       "      <td>13</td>\n",
       "      <td>7403</td>\n",
       "    </tr>\n",
       "    <tr>\n",
       "      <th>4</th>\n",
       "      <td>15</td>\n",
       "      <td>7370</td>\n",
       "    </tr>\n",
       "  </tbody>\n",
       "</table>\n",
       "</div>"
      ],
      "text/plain": [
       "   hour  total_orders\n",
       "0    16          7653\n",
       "1    14          7565\n",
       "2    11          7432\n",
       "3    13          7403\n",
       "4    15          7370"
      ]
     },
     "execution_count": 26,
     "metadata": {},
     "output_type": "execute_result"
    }
   ],
   "source": [
    "query_time = '''\n",
    "SELECT \n",
    "    d.hour,\n",
    "    COUNT(o.order_key) AS total_orders\n",
    "FROM \n",
    "    fact_order o\n",
    "JOIN \n",
    "    dim_date d ON o.order_date_id = d.date_id\n",
    "GROUP BY \n",
    "    d.hour\n",
    "ORDER BY \n",
    "    total_orders DESC\n",
    "Limit 5;\n",
    "'''\n",
    "fetch_data(connection, query_time)\n"
   ]
  },
  {
   "cell_type": "markdown",
   "metadata": {},
   "source": [
    "Seems Like 4 in the afternoon is our Peak time also all afternoon times is the are most times to make orders"
   ]
  },
  {
   "cell_type": "markdown",
   "metadata": {},
   "source": [
    "## What is the preferred way to pay in the ecommerce?"
   ]
  },
  {
   "cell_type": "code",
   "execution_count": 25,
   "metadata": {
    "vscode": {
     "languageId": "sql"
    }
   },
   "outputs": [
    {
     "data": {
      "text/html": [
       "<div>\n",
       "<style scoped>\n",
       "    .dataframe tbody tr th:only-of-type {\n",
       "        vertical-align: middle;\n",
       "    }\n",
       "\n",
       "    .dataframe tbody tr th {\n",
       "        vertical-align: top;\n",
       "    }\n",
       "\n",
       "    .dataframe thead th {\n",
       "        text-align: right;\n",
       "    }\n",
       "</style>\n",
       "<table border=\"1\" class=\"dataframe\">\n",
       "  <thead>\n",
       "    <tr style=\"text-align: right;\">\n",
       "      <th></th>\n",
       "      <th>payment_type</th>\n",
       "      <th>total_orders</th>\n",
       "      <th>percentage</th>\n",
       "    </tr>\n",
       "  </thead>\n",
       "  <tbody>\n",
       "    <tr>\n",
       "      <th>0</th>\n",
       "      <td>credit_card</td>\n",
       "      <td>85030</td>\n",
       "      <td>75.5</td>\n",
       "    </tr>\n",
       "    <tr>\n",
       "      <th>1</th>\n",
       "      <td>blipay</td>\n",
       "      <td>22867</td>\n",
       "      <td>20.3</td>\n",
       "    </tr>\n",
       "    <tr>\n",
       "      <th>2</th>\n",
       "      <td>voucher</td>\n",
       "      <td>3060</td>\n",
       "      <td>2.7</td>\n",
       "    </tr>\n",
       "    <tr>\n",
       "      <th>3</th>\n",
       "      <td>debit_card</td>\n",
       "      <td>1690</td>\n",
       "      <td>1.5</td>\n",
       "    </tr>\n",
       "  </tbody>\n",
       "</table>\n",
       "</div>"
      ],
      "text/plain": [
       "  payment_type  total_orders percentage\n",
       "0  credit_card         85030       75.5\n",
       "1       blipay         22867       20.3\n",
       "2      voucher          3060        2.7\n",
       "3   debit_card          1690        1.5"
      ]
     },
     "execution_count": 25,
     "metadata": {},
     "output_type": "execute_result"
    }
   ],
   "source": [
    "query_payment = '''\n",
    "with payment_method as (\n",
    "    SELECT \n",
    "        p.payment_type,\n",
    "        COUNT(o.order_key) AS total_orders\n",
    "    FROM \n",
    "        fact_order o\n",
    "    JOIN \n",
    "        dim_payment p ON o.payment_id = p.payment_id\n",
    "    GROUP BY \n",
    "        p.payment_type\n",
    "    )\n",
    "\n",
    "SELECT payment_type, total_orders,round(total_orders/(SELECT SUM(total_orders) FROM payment_method) * 100,1) as percentage\n",
    "From payment_method\n",
    "Order by total_orders desc\n",
    "'''\n",
    "fetch_data(connection, query_payment)"
   ]
  },
  {
   "cell_type": "markdown",
   "metadata": {},
   "source": [
    "Seems Like People prefer credit card 75% of people prefer this payment method"
   ]
  },
  {
   "cell_type": "markdown",
   "metadata": {},
   "source": [
    "## How many installment is usually done when paying in the ecommerce?"
   ]
  },
  {
   "cell_type": "code",
   "execution_count": 35,
   "metadata": {},
   "outputs": [
    {
     "data": {
      "text/html": [
       "<div>\n",
       "<style scoped>\n",
       "    .dataframe tbody tr th:only-of-type {\n",
       "        vertical-align: middle;\n",
       "    }\n",
       "\n",
       "    .dataframe tbody tr th {\n",
       "        vertical-align: top;\n",
       "    }\n",
       "\n",
       "    .dataframe thead th {\n",
       "        text-align: right;\n",
       "    }\n",
       "</style>\n",
       "<table border=\"1\" class=\"dataframe\">\n",
       "  <thead>\n",
       "    <tr style=\"text-align: right;\">\n",
       "      <th></th>\n",
       "      <th>payment_installments</th>\n",
       "      <th>total_orders</th>\n",
       "      <th>percentage</th>\n",
       "    </tr>\n",
       "  </thead>\n",
       "  <tbody>\n",
       "    <tr>\n",
       "      <th>0</th>\n",
       "      <td>1</td>\n",
       "      <td>54357</td>\n",
       "      <td>0.4825</td>\n",
       "    </tr>\n",
       "    <tr>\n",
       "      <th>1</th>\n",
       "      <td>2</td>\n",
       "      <td>13548</td>\n",
       "      <td>0.1203</td>\n",
       "    </tr>\n",
       "    <tr>\n",
       "      <th>2</th>\n",
       "      <td>3</td>\n",
       "      <td>11631</td>\n",
       "      <td>0.1033</td>\n",
       "    </tr>\n",
       "    <tr>\n",
       "      <th>3</th>\n",
       "      <td>4</td>\n",
       "      <td>7896</td>\n",
       "      <td>0.0701</td>\n",
       "    </tr>\n",
       "    <tr>\n",
       "      <th>4</th>\n",
       "      <td>10</td>\n",
       "      <td>6763</td>\n",
       "      <td>0.0600</td>\n",
       "    </tr>\n",
       "  </tbody>\n",
       "</table>\n",
       "</div>"
      ],
      "text/plain": [
       "   payment_installments  total_orders percentage\n",
       "0                     1         54357     0.4825\n",
       "1                     2         13548     0.1203\n",
       "2                     3         11631     0.1033\n",
       "3                     4          7896     0.0701\n",
       "4                    10          6763     0.0600"
      ]
     },
     "execution_count": 35,
     "metadata": {},
     "output_type": "execute_result"
    }
   ],
   "source": [
    "query_installments = '''\n",
    "with payment_installments_counnt as (\n",
    "SELECT \n",
    "    payment_installments,\n",
    "    COUNT(o.order_key) AS total_orders\n",
    "FROM \n",
    "    fact_order o\n",
    "JOIN \n",
    "    dim_payment p ON o.payment_id = p.payment_id\n",
    "GROUP BY \n",
    "    payment_installments)\n",
    "\n",
    "SELECT payment_installments, total_orders, total_orders/sum(total_orders) over() as percentage\n",
    "FROM payment_installments_counnt\n",
    "ORDER BY total_orders DESC\n",
    "LIMIT 5;\n",
    "'''\n",
    "fetch_data(connection, query_installments)"
   ]
  },
  {
   "cell_type": "markdown",
   "metadata": {},
   "source": [
    "Seems like most people pay all in first time for 50 of purchases and almost 1 percentage of people tend to long term installements "
   ]
  },
  {
   "cell_type": "markdown",
   "metadata": {},
   "source": [
    "## What is the average spending time for user for our ecommerce?"
   ]
  },
  {
   "cell_type": "code",
   "execution_count": 50,
   "metadata": {
    "vscode": {
     "languageId": "sql"
    }
   },
   "outputs": [
    {
     "data": {
      "text/html": [
       "<div>\n",
       "<style scoped>\n",
       "    .dataframe tbody tr th:only-of-type {\n",
       "        vertical-align: middle;\n",
       "    }\n",
       "\n",
       "    .dataframe tbody tr th {\n",
       "        vertical-align: top;\n",
       "    }\n",
       "\n",
       "    .dataframe thead th {\n",
       "        text-align: right;\n",
       "    }\n",
       "</style>\n",
       "<table border=\"1\" class=\"dataframe\">\n",
       "  <thead>\n",
       "    <tr style=\"text-align: right;\">\n",
       "      <th></th>\n",
       "      <th>avg_decision_time_minutes</th>\n",
       "    </tr>\n",
       "  </thead>\n",
       "  <tbody>\n",
       "    <tr>\n",
       "      <th>0</th>\n",
       "      <td>31.3784</td>\n",
       "    </tr>\n",
       "  </tbody>\n",
       "</table>\n",
       "</div>"
      ],
      "text/plain": [
       "  avg_decision_time_minutes\n",
       "0                   31.3784"
      ]
     },
     "execution_count": 50,
     "metadata": {},
     "output_type": "execute_result"
    }
   ],
   "source": [
    "query_avg_spending_time = '''\n",
    "SELECT \n",
    "    AVG(\n",
    "        CASE \n",
    "            WHEN d2.hour > d1.hour THEN (d2.hour - d1.hour) * 60 + (d2.minute - d1.minute)\n",
    "            ELSE d2.minute - d1.minute\n",
    "        END\n",
    "    ) AS avg_decision_time_minutes\n",
    "FROM \n",
    "    fact_order o\n",
    "JOIN \n",
    "    dim_date d1 ON o.order_date_id = d1.date_id\n",
    "JOIN \n",
    "    dim_date d2 ON o.order_approved_date_id = d2.date_id;\n",
    "'''\n",
    "fetch_data(connection, query_avg_spending_time)\n"
   ]
  },
  {
   "cell_type": "markdown",
   "metadata": {},
   "source": [
    "average time only was to see the customer time between the approval date and order date"
   ]
  },
  {
   "cell_type": "markdown",
   "metadata": {},
   "source": [
    "## What is the frequency of purchase on each state?"
   ]
  },
  {
   "cell_type": "code",
   "execution_count": null,
   "metadata": {},
   "outputs": [
    {
     "data": {
      "text/html": [
       "<div>\n",
       "<style scoped>\n",
       "    .dataframe tbody tr th:only-of-type {\n",
       "        vertical-align: middle;\n",
       "    }\n",
       "\n",
       "    .dataframe tbody tr th {\n",
       "        vertical-align: top;\n",
       "    }\n",
       "\n",
       "    .dataframe thead th {\n",
       "        text-align: right;\n",
       "    }\n",
       "</style>\n",
       "<table border=\"1\" class=\"dataframe\">\n",
       "  <thead>\n",
       "    <tr style=\"text-align: right;\">\n",
       "      <th></th>\n",
       "      <th>customer_state</th>\n",
       "      <th>avg_orders_per_month</th>\n",
       "    </tr>\n",
       "  </thead>\n",
       "  <tbody>\n",
       "    <tr>\n",
       "      <th>0</th>\n",
       "      <td>BANTEN</td>\n",
       "      <td>2017</td>\n",
       "    </tr>\n",
       "    <tr>\n",
       "      <th>1</th>\n",
       "      <td>JAWA BARAT</td>\n",
       "      <td>1200</td>\n",
       "    </tr>\n",
       "    <tr>\n",
       "      <th>2</th>\n",
       "      <td>DKI JAKARTA</td>\n",
       "      <td>1196</td>\n",
       "    </tr>\n",
       "    <tr>\n",
       "      <th>3</th>\n",
       "      <td>JAWA TENGAH</td>\n",
       "      <td>806</td>\n",
       "    </tr>\n",
       "    <tr>\n",
       "      <th>4</th>\n",
       "      <td>JAWA TIMUR</td>\n",
       "      <td>791</td>\n",
       "    </tr>\n",
       "  </tbody>\n",
       "</table>\n",
       "</div>"
      ],
      "text/plain": [
       "  customer_state avg_orders_per_month\n",
       "0         BANTEN                 2017\n",
       "1     JAWA BARAT                 1200\n",
       "2    DKI JAKARTA                 1196\n",
       "3    JAWA TENGAH                  806\n",
       "4     JAWA TIMUR                  791"
      ]
     },
     "execution_count": 64,
     "metadata": {},
     "output_type": "execute_result"
    }
   ],
   "source": [
    "query_state_frequency = '''\n",
    "    SELECT \n",
    "        customer_state,\n",
    "        Round(AVG(total_orders)) AS avg_orders_per_month\n",
    "    FROM (\n",
    "        SELECT \n",
    "            u.customer_state,\n",
    "            COUNT(o.order_key) AS total_orders\n",
    "        FROM \n",
    "            fact_order o\n",
    "        JOIN \n",
    "            dim_user u ON o.user_id = u.user_id\n",
    "        JOIN \n",
    "            dim_date d ON o.order_date_id = d.date_id\n",
    "        GROUP BY \n",
    "            u.customer_state, d.month_name\n",
    "    ) AS state_orders\n",
    "    GROUP BY \n",
    "        customer_state\n",
    "    ORDER BY \n",
    "        avg_orders_per_month DESC\n",
    "    LIMIT 5;\n",
    "    '''\n",
    "fetch_data(connection, query_state_frequency)"
   ]
  },
  {
   "cell_type": "markdown",
   "metadata": {},
   "source": [
    "Banten state got the highest month order with 2017 order per month then jawa barat with 800 less "
   ]
  },
  {
   "cell_type": "markdown",
   "metadata": {},
   "source": [
    "## Which logistic route that have heavy traffic in our ecommerce?"
   ]
  },
  {
   "cell_type": "code",
   "execution_count": 79,
   "metadata": {
    "vscode": {
     "languageId": "sql"
    }
   },
   "outputs": [
    {
     "data": {
      "text/html": [
       "<div>\n",
       "<style scoped>\n",
       "    .dataframe tbody tr th:only-of-type {\n",
       "        vertical-align: middle;\n",
       "    }\n",
       "\n",
       "    .dataframe tbody tr th {\n",
       "        vertical-align: top;\n",
       "    }\n",
       "\n",
       "    .dataframe thead th {\n",
       "        text-align: right;\n",
       "    }\n",
       "</style>\n",
       "<table border=\"1\" class=\"dataframe\">\n",
       "  <thead>\n",
       "    <tr style=\"text-align: right;\">\n",
       "      <th></th>\n",
       "      <th>pickup_city</th>\n",
       "      <th>pickup_state</th>\n",
       "      <th>delivery_city</th>\n",
       "      <th>delivery_state</th>\n",
       "      <th>max_order_hour</th>\n",
       "      <th>order_count</th>\n",
       "    </tr>\n",
       "  </thead>\n",
       "  <tbody>\n",
       "    <tr>\n",
       "      <th>0</th>\n",
       "      <td>KOTA TANGERANG</td>\n",
       "      <td>BANTEN</td>\n",
       "      <td>KOTA TANGERANG</td>\n",
       "      <td>BANTEN</td>\n",
       "      <td>18</td>\n",
       "      <td>184</td>\n",
       "    </tr>\n",
       "    <tr>\n",
       "      <th>1</th>\n",
       "      <td>KABUPATEN BERAU</td>\n",
       "      <td>KALIMANTAN TIMUR</td>\n",
       "      <td>KOTA TANGERANG</td>\n",
       "      <td>BANTEN</td>\n",
       "      <td>18</td>\n",
       "      <td>57</td>\n",
       "    </tr>\n",
       "    <tr>\n",
       "      <th>2</th>\n",
       "      <td>KOTA TANGERANG</td>\n",
       "      <td>BANTEN</td>\n",
       "      <td>KOTA JAKARTA BARAT</td>\n",
       "      <td>DKI JAKARTA</td>\n",
       "      <td>17</td>\n",
       "      <td>52</td>\n",
       "    </tr>\n",
       "    <tr>\n",
       "      <th>3</th>\n",
       "      <td>KOTA JAKARTA SELATAN</td>\n",
       "      <td>DKI JAKARTA</td>\n",
       "      <td>KOTA TANGERANG</td>\n",
       "      <td>BANTEN</td>\n",
       "      <td>18</td>\n",
       "      <td>48</td>\n",
       "    </tr>\n",
       "    <tr>\n",
       "      <th>4</th>\n",
       "      <td>KOTA JAKARTA TIMUR</td>\n",
       "      <td>DKI JAKARTA</td>\n",
       "      <td>KOTA TANGERANG</td>\n",
       "      <td>BANTEN</td>\n",
       "      <td>20</td>\n",
       "      <td>47</td>\n",
       "    </tr>\n",
       "    <tr>\n",
       "      <th>5</th>\n",
       "      <td>KOTA TANGERANG</td>\n",
       "      <td>BANTEN</td>\n",
       "      <td>KOTA JAKARTA TIMUR</td>\n",
       "      <td>DKI JAKARTA</td>\n",
       "      <td>16</td>\n",
       "      <td>44</td>\n",
       "    </tr>\n",
       "    <tr>\n",
       "      <th>6</th>\n",
       "      <td>KOTA TANGERANG</td>\n",
       "      <td>BANTEN</td>\n",
       "      <td>KABUPATEN PURBALINGGA</td>\n",
       "      <td>JAWA TENGAH</td>\n",
       "      <td>16</td>\n",
       "      <td>40</td>\n",
       "    </tr>\n",
       "    <tr>\n",
       "      <th>7</th>\n",
       "      <td>KOTA TANGERANG</td>\n",
       "      <td>BANTEN</td>\n",
       "      <td>KOTA PROBOLINGGO</td>\n",
       "      <td>JAWA TIMUR</td>\n",
       "      <td>17</td>\n",
       "      <td>39</td>\n",
       "    </tr>\n",
       "    <tr>\n",
       "      <th>8</th>\n",
       "      <td>KOTA TANGERANG</td>\n",
       "      <td>BANTEN</td>\n",
       "      <td>KOTA BONTANG</td>\n",
       "      <td>KALIMANTAN TIMUR</td>\n",
       "      <td>16</td>\n",
       "      <td>33</td>\n",
       "    </tr>\n",
       "    <tr>\n",
       "      <th>9</th>\n",
       "      <td>KOTA JAKARTA BARAT</td>\n",
       "      <td>DKI JAKARTA</td>\n",
       "      <td>KOTA TANGERANG</td>\n",
       "      <td>BANTEN</td>\n",
       "      <td>18</td>\n",
       "      <td>33</td>\n",
       "    </tr>\n",
       "  </tbody>\n",
       "</table>\n",
       "</div>"
      ],
      "text/plain": [
       "            pickup_city      pickup_state          delivery_city  \\\n",
       "0        KOTA TANGERANG            BANTEN         KOTA TANGERANG   \n",
       "1       KABUPATEN BERAU  KALIMANTAN TIMUR         KOTA TANGERANG   \n",
       "2        KOTA TANGERANG            BANTEN     KOTA JAKARTA BARAT   \n",
       "3  KOTA JAKARTA SELATAN       DKI JAKARTA         KOTA TANGERANG   \n",
       "4    KOTA JAKARTA TIMUR       DKI JAKARTA         KOTA TANGERANG   \n",
       "5        KOTA TANGERANG            BANTEN     KOTA JAKARTA TIMUR   \n",
       "6        KOTA TANGERANG            BANTEN  KABUPATEN PURBALINGGA   \n",
       "7        KOTA TANGERANG            BANTEN       KOTA PROBOLINGGO   \n",
       "8        KOTA TANGERANG            BANTEN           KOTA BONTANG   \n",
       "9    KOTA JAKARTA BARAT       DKI JAKARTA         KOTA TANGERANG   \n",
       "\n",
       "     delivery_state  max_order_hour  order_count  \n",
       "0            BANTEN              18          184  \n",
       "1            BANTEN              18           57  \n",
       "2       DKI JAKARTA              17           52  \n",
       "3            BANTEN              18           48  \n",
       "4            BANTEN              20           47  \n",
       "5       DKI JAKARTA              16           44  \n",
       "6       JAWA TENGAH              16           40  \n",
       "7        JAWA TIMUR              17           39  \n",
       "8  KALIMANTAN TIMUR              16           33  \n",
       "9            BANTEN              18           33  "
      ]
     },
     "execution_count": 79,
     "metadata": {},
     "output_type": "execute_result"
    }
   ],
   "source": [
    "query_rush_hour = '''\n",
    "WITH RankedOrders AS (\n",
    "    SELECT \n",
    "        s.seller_city AS pickup_city,\n",
    "        s.seller_state AS pickup_state,\n",
    "        u.customer_city AS delivery_city,\n",
    "        u.customer_state AS delivery_state,\n",
    "        d.hour,\n",
    "        COUNT(o.order_key) AS order_count,\n",
    "        ROW_NUMBER() OVER (\n",
    "            PARTITION BY \n",
    "                s.seller_city, s.seller_state, u.customer_city, u.customer_state\n",
    "            ORDER BY \n",
    "                COUNT(o.order_key) DESC\n",
    "        ) AS rank_\n",
    "    FROM \n",
    "        fact_order o\n",
    "    JOIN \n",
    "        dim_seller s ON o.seller_id = s.seller_id\n",
    "    JOIN \n",
    "        dim_user u ON o.user_id = u.user_id\n",
    "    JOIN \n",
    "        dim_date d ON o.delivered_date_id = d.date_id\n",
    "    GROUP BY \n",
    "        s.seller_city, s.seller_state, u.customer_city, u.customer_state, d.hour\n",
    ")\n",
    "SELECT \n",
    "    pickup_city,\n",
    "    pickup_state,\n",
    "    delivery_city,\n",
    "    delivery_state,\n",
    "    hour AS max_order_hour,\n",
    "    order_count\n",
    "FROM \n",
    "    RankedOrders\n",
    "WHERE \n",
    "    rank_ = 1\n",
    "ORDER BY \n",
    "    order_count DESC\n",
    "LIMIT 10;\n",
    "'''\n",
    "fetch_data(connection, query_rush_hour)"
   ]
  },
  {
   "cell_type": "markdown",
   "metadata": {},
   "source": [
    "This query shows the hour where most orders are sent which will be more traffic"
   ]
  },
  {
   "cell_type": "markdown",
   "metadata": {},
   "source": [
    "## How many late delivered order in our ecommerce? Are late order affecting the customer satisfaction?"
   ]
  },
  {
   "cell_type": "code",
   "execution_count": null,
   "metadata": {
    "vscode": {
     "languageId": "sql"
    }
   },
   "outputs": [
    {
     "data": {
      "text/html": [
       "<div>\n",
       "<style scoped>\n",
       "    .dataframe tbody tr th:only-of-type {\n",
       "        vertical-align: middle;\n",
       "    }\n",
       "\n",
       "    .dataframe tbody tr th {\n",
       "        vertical-align: top;\n",
       "    }\n",
       "\n",
       "    .dataframe thead th {\n",
       "        text-align: right;\n",
       "    }\n",
       "</style>\n",
       "<table border=\"1\" class=\"dataframe\">\n",
       "  <thead>\n",
       "    <tr style=\"text-align: right;\">\n",
       "      <th></th>\n",
       "      <th>is_late</th>\n",
       "      <th>total_orders</th>\n",
       "      <th>avg_satisfaction</th>\n",
       "    </tr>\n",
       "  </thead>\n",
       "  <tbody>\n",
       "    <tr>\n",
       "      <th>0</th>\n",
       "      <td>0</td>\n",
       "      <td>102931</td>\n",
       "      <td>4.1948</td>\n",
       "    </tr>\n",
       "    <tr>\n",
       "      <th>1</th>\n",
       "      <td>1</td>\n",
       "      <td>7265</td>\n",
       "      <td>2.2434</td>\n",
       "    </tr>\n",
       "  </tbody>\n",
       "</table>\n",
       "</div>"
      ],
      "text/plain": [
       "   is_late  total_orders avg_satisfaction\n",
       "0        0        102931           4.1948\n",
       "1        1          7265           2.2434"
      ]
     },
     "execution_count": 70,
     "metadata": {},
     "output_type": "execute_result"
    }
   ],
   "source": [
    "query_late_orders = '''\n",
    "WITH late_orders AS (\n",
    "    SELECT \n",
    "        o.order_key,\n",
    "        CASE \n",
    "            WHEN date(d2.full_timestamp) > o.estimated_time_delivery THEN 1\n",
    "            ELSE 0\n",
    "        END AS is_late\n",
    "    FROM \n",
    "        fact_order o\n",
    "    JOIN \n",
    "        dim_date d2 ON o.delivered_date_id = d2.date_id\n",
    ")\n",
    "SELECT \n",
    "    is_late,\n",
    "    COUNT(o.order_key) AS total_orders,\n",
    "    AVG(f.feedback_score) AS avg_satisfaction\n",
    "FROM \n",
    "    late_orders lo\n",
    "JOIN \n",
    "    fact_order o ON lo.order_key = o.order_key\n",
    "JOIN \n",
    "    dim_feedback f ON o.feedback_id = f.feedback_key\n",
    "GROUP BY \n",
    "    is_late;\n",
    "'''\n",
    "fetch_data(connection, query_late_orders)"
   ]
  },
  {
   "cell_type": "markdown",
   "metadata": {},
   "source": [
    "Late arrival got a big infelunce in the satisfication rate for customers"
   ]
  },
  {
   "cell_type": "markdown",
   "metadata": {},
   "source": [
    "## How long are the delay for delivery / shipping process in each state?"
   ]
  },
  {
   "cell_type": "code",
   "execution_count": null,
   "metadata": {
    "vscode": {
     "languageId": "sql"
    }
   },
   "outputs": [
    {
     "data": {
      "text/html": [
       "<div>\n",
       "<style scoped>\n",
       "    .dataframe tbody tr th:only-of-type {\n",
       "        vertical-align: middle;\n",
       "    }\n",
       "\n",
       "    .dataframe tbody tr th {\n",
       "        vertical-align: top;\n",
       "    }\n",
       "\n",
       "    .dataframe thead th {\n",
       "        text-align: right;\n",
       "    }\n",
       "</style>\n",
       "<table border=\"1\" class=\"dataframe\">\n",
       "  <thead>\n",
       "    <tr style=\"text-align: right;\">\n",
       "      <th></th>\n",
       "      <th>customer_state</th>\n",
       "      <th>avg_delay_days</th>\n",
       "    </tr>\n",
       "  </thead>\n",
       "  <tbody>\n",
       "    <tr>\n",
       "      <th>0</th>\n",
       "      <td>BANTEN</td>\n",
       "      <td>18.5260</td>\n",
       "    </tr>\n",
       "    <tr>\n",
       "      <th>1</th>\n",
       "      <td>KALIMANTAN TIMUR</td>\n",
       "      <td>26.0625</td>\n",
       "    </tr>\n",
       "    <tr>\n",
       "      <th>2</th>\n",
       "      <td>JAWA TENGAH</td>\n",
       "      <td>26.1481</td>\n",
       "    </tr>\n",
       "    <tr>\n",
       "      <th>3</th>\n",
       "      <td>DI YOGYAKARTA</td>\n",
       "      <td>26.6345</td>\n",
       "    </tr>\n",
       "    <tr>\n",
       "      <th>4</th>\n",
       "      <td>SULAWESI TENGAH</td>\n",
       "      <td>26.7945</td>\n",
       "    </tr>\n",
       "  </tbody>\n",
       "</table>\n",
       "</div>"
      ],
      "text/plain": [
       "     customer_state avg_delay_days\n",
       "0            BANTEN        18.5260\n",
       "1  KALIMANTAN TIMUR        26.0625\n",
       "2       JAWA TENGAH        26.1481\n",
       "3     DI YOGYAKARTA        26.6345\n",
       "4   SULAWESI TENGAH        26.7945"
      ]
     },
     "execution_count": 74,
     "metadata": {},
     "output_type": "execute_result"
    }
   ],
   "source": [
    "query_delay_per_state = '''\n",
    "WITH delay AS (\n",
    "    SELECT \n",
    "        u.customer_state,\n",
    "        DATEDIFF(d2.full_timestamp, d1.full_timestamp) AS delay_days\n",
    "    FROM \n",
    "        fact_order o\n",
    "    JOIN \n",
    "        dim_user u ON o.user_id = u.user_id\n",
    "    JOIN \n",
    "        dim_date d2 ON o.delivered_date_id = d2.date_id\n",
    "    JOIN\n",
    "        dim_date d1 ON o.pickup_date_id = d1.date_id\n",
    "    WHERE \n",
    "        DATEDIFF(d2.full_timestamp, o.estimated_time_delivery) > 0\n",
    ")\n",
    "SELECT \n",
    "    customer_state,\n",
    "    AVG(delay_days) AS avg_delay_days\n",
    "FROM \n",
    "    delay\n",
    "GROUP BY \n",
    "    customer_state\n",
    "ORDER BY \n",
    "    avg_delay_days\n",
    "    limit 5;\n",
    "'''\n",
    "fetch_data(connection, query_delay_per_state)"
   ]
  },
  {
   "cell_type": "markdown",
   "metadata": {},
   "source": [
    "The states with lowest delay days between pick up and delivery are higher in number of orders count"
   ]
  },
  {
   "cell_type": "markdown",
   "metadata": {},
   "source": [
    "## How long are the difference between estimated delivery time and actual delivery time in each state?"
   ]
  },
  {
   "cell_type": "code",
   "execution_count": null,
   "metadata": {
    "vscode": {
     "languageId": "sql"
    }
   },
   "outputs": [
    {
     "data": {
      "text/html": [
       "<div>\n",
       "<style scoped>\n",
       "    .dataframe tbody tr th:only-of-type {\n",
       "        vertical-align: middle;\n",
       "    }\n",
       "\n",
       "    .dataframe tbody tr th {\n",
       "        vertical-align: top;\n",
       "    }\n",
       "\n",
       "    .dataframe thead th {\n",
       "        text-align: right;\n",
       "    }\n",
       "</style>\n",
       "<table border=\"1\" class=\"dataframe\">\n",
       "  <thead>\n",
       "    <tr style=\"text-align: right;\">\n",
       "      <th></th>\n",
       "      <th>customer_state</th>\n",
       "      <th>avg_delivery_time_diff_from_estimation</th>\n",
       "    </tr>\n",
       "  </thead>\n",
       "  <tbody>\n",
       "    <tr>\n",
       "      <th>0</th>\n",
       "      <td>MALUKU</td>\n",
       "      <td>14.1241</td>\n",
       "    </tr>\n",
       "    <tr>\n",
       "      <th>1</th>\n",
       "      <td>ACEH</td>\n",
       "      <td>13.8581</td>\n",
       "    </tr>\n",
       "    <tr>\n",
       "      <th>2</th>\n",
       "      <td>BENGKULU</td>\n",
       "      <td>13.8255</td>\n",
       "    </tr>\n",
       "    <tr>\n",
       "      <th>3</th>\n",
       "      <td>NUSA TENGGARA TIMUR</td>\n",
       "      <td>13.3982</td>\n",
       "    </tr>\n",
       "    <tr>\n",
       "      <th>4</th>\n",
       "      <td>PAPUA BARAT</td>\n",
       "      <td>13.3108</td>\n",
       "    </tr>\n",
       "  </tbody>\n",
       "</table>\n",
       "</div>"
      ],
      "text/plain": [
       "        customer_state avg_delivery_time_diff_from_estimation\n",
       "0               MALUKU                                14.1241\n",
       "1                 ACEH                                13.8581\n",
       "2             BENGKULU                                13.8255\n",
       "3  NUSA TENGGARA TIMUR                                13.3982\n",
       "4          PAPUA BARAT                                13.3108"
      ]
     },
     "execution_count": 78,
     "metadata": {},
     "output_type": "execute_result"
    }
   ],
   "source": [
    "query_delivery_time_diff = '''\n",
    "WITH delivery_diff AS (\n",
    "    SELECT \n",
    "        u.customer_state,\n",
    "        DATEDIFF(o.estimated_time_delivery,d2.full_timestamp) AS delivery_time_diff\n",
    "    FROM \n",
    "        fact_order o\n",
    "    JOIN \n",
    "        dim_user u ON o.user_id = u.user_id\n",
    "    JOIN \n",
    "        dim_date d2 ON o.delivered_date_id = d2.date_id\n",
    ")\n",
    "SELECT \n",
    "    customer_state,\n",
    "    AVG(delivery_time_diff) AS avg_delivery_time_diff_from_estimation\n",
    "FROM \n",
    "    delivery_diff\n",
    "GROUP BY \n",
    "    customer_state\n",
    "ORDER BY \n",
    "    avg_delivery_time_diff_from_estimation DESC\n",
    "LIMIT 5;\n",
    "'''\n",
    "fetch_data(connection, query_delivery_time_diff)\n"
   ]
  }
 ],
 "metadata": {
  "kernelspec": {
   "display_name": "myenv",
   "language": "python",
   "name": "python3"
  },
  "language_info": {
   "codemirror_mode": {
    "name": "ipython",
    "version": 3
   },
   "file_extension": ".py",
   "mimetype": "text/x-python",
   "name": "python",
   "nbconvert_exporter": "python",
   "pygments_lexer": "ipython3",
   "version": "3.11.2"
  }
 },
 "nbformat": 4,
 "nbformat_minor": 2
}
